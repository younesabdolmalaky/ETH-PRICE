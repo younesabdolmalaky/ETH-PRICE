{
 "cells": [
  {
   "cell_type": "code",
   "execution_count": 6,
   "id": "ae19d6fd",
   "metadata": {},
   "outputs": [],
   "source": [
    "import tensorflow as tf\n",
    "from tensorflow.keras.models import load_model\n",
    "import pickle\n",
    "import pandas as pd\n",
    "import numpy as np"
   ]
  },
  {
   "cell_type": "code",
   "execution_count": 7,
   "id": "3e71b743",
   "metadata": {},
   "outputs": [],
   "source": [
    "model = load_model('../fianl-model.h5')"
   ]
  },
  {
   "cell_type": "code",
   "execution_count": 10,
   "id": "7c243bff",
   "metadata": {},
   "outputs": [],
   "source": [
    "with open('../test_X.h5', 'rb') as handle:\n",
    "    test_X = pickle.load(handle)\n",
    "\n",
    "with open('../test_y.h5', 'rb') as handle:\n",
    "    test_y = pickle.load(handle)\n",
    "    \n",
    "with open('../scaler.h5', 'rb') as handle:\n",
    "    scaler = pickle.load(handle)"
   ]
  },
  {
   "cell_type": "code",
   "execution_count": 4,
   "id": "834051f8",
   "metadata": {},
   "outputs": [
    {
     "name": "stdout",
     "output_type": "stream",
     "text": [
      "1926/1926 [==============================] - 38s 18ms/step\n"
     ]
    }
   ],
   "source": [
    "y_pred = model.predict(test_X)"
   ]
  },
  {
   "cell_type": "code",
   "execution_count": 8,
   "id": "fe1c56b8",
   "metadata": {},
   "outputs": [],
   "source": [
    "forinverse = np.zeros((y_pred.shape[0] , 6))\n",
    "for i in range(len(forinverse)):\n",
    "    forinverse[i][3] = y_pred[i]"
   ]
  },
  {
   "cell_type": "code",
   "execution_count": 9,
   "id": "f5ed5bc1",
   "metadata": {},
   "outputs": [],
   "source": [
    "forinverse1 = np.zeros((y_pred.shape[0] , 6))\n",
    "for i in range(len(forinverse)):\n",
    "    forinverse1[i][3] = test_y[i]"
   ]
  },
  {
   "cell_type": "code",
   "execution_count": 11,
   "id": "fa15355e",
   "metadata": {},
   "outputs": [],
   "source": [
    "inversepred = scaler.inverse_transform(forinverse)\n",
    "inversettrue = scaler.inverse_transform(forinverse1)"
   ]
  },
  {
   "cell_type": "code",
   "execution_count": 12,
   "id": "21cb97bd",
   "metadata": {},
   "outputs": [
    {
     "data": {
      "text/plain": [
       "0.9887782612852325"
      ]
     },
     "execution_count": 12,
     "metadata": {},
     "output_type": "execute_result"
    }
   ],
   "source": [
    "from sklearn.metrics import r2_score\n",
    "r2_score(y_pred=inversepred[: , 3], y_true = inversettrue[: , 3])"
   ]
  },
  {
   "cell_type": "code",
   "execution_count": 13,
   "id": "95dfc840",
   "metadata": {},
   "outputs": [
    {
     "data": {
      "text/plain": [
       "51.61967419831419"
      ]
     },
     "execution_count": 13,
     "metadata": {},
     "output_type": "execute_result"
    }
   ],
   "source": [
    "from sklearn.metrics import mean_absolute_error\n",
    "mean_absolute_error(y_true = inversettrue[: , 3], y_pred = inversepred[: , 3])"
   ]
  },
  {
   "cell_type": "code",
   "execution_count": 14,
   "id": "1df09d50",
   "metadata": {},
   "outputs": [
    {
     "data": {
      "text/html": [
       "<div>\n",
       "<style scoped>\n",
       "    .dataframe tbody tr th:only-of-type {\n",
       "        vertical-align: middle;\n",
       "    }\n",
       "\n",
       "    .dataframe tbody tr th {\n",
       "        vertical-align: top;\n",
       "    }\n",
       "\n",
       "    .dataframe thead th {\n",
       "        text-align: right;\n",
       "    }\n",
       "</style>\n",
       "<table border=\"1\" class=\"dataframe\">\n",
       "  <thead>\n",
       "    <tr style=\"text-align: right;\">\n",
       "      <th></th>\n",
       "      <th>0</th>\n",
       "    </tr>\n",
       "  </thead>\n",
       "  <tbody>\n",
       "    <tr>\n",
       "      <th>184.863779</th>\n",
       "      <td>233.20</td>\n",
       "    </tr>\n",
       "    <tr>\n",
       "      <th>311.347433</th>\n",
       "      <td>383.74</td>\n",
       "    </tr>\n",
       "    <tr>\n",
       "      <th>188.639290</th>\n",
       "      <td>113.18</td>\n",
       "    </tr>\n",
       "    <tr>\n",
       "      <th>186.446497</th>\n",
       "      <td>120.16</td>\n",
       "    </tr>\n",
       "    <tr>\n",
       "      <th>199.321040</th>\n",
       "      <td>220.10</td>\n",
       "    </tr>\n",
       "    <tr>\n",
       "      <th>...</th>\n",
       "      <td>...</td>\n",
       "    </tr>\n",
       "    <tr>\n",
       "      <th>178.946460</th>\n",
       "      <td>179.32</td>\n",
       "    </tr>\n",
       "    <tr>\n",
       "      <th>1759.681188</th>\n",
       "      <td>1706.47</td>\n",
       "    </tr>\n",
       "    <tr>\n",
       "      <th>178.770799</th>\n",
       "      <td>168.57</td>\n",
       "    </tr>\n",
       "    <tr>\n",
       "      <th>410.962959</th>\n",
       "      <td>497.30</td>\n",
       "    </tr>\n",
       "    <tr>\n",
       "      <th>2678.806157</th>\n",
       "      <td>2914.06</td>\n",
       "    </tr>\n",
       "  </tbody>\n",
       "</table>\n",
       "<p>61609 rows × 1 columns</p>\n",
       "</div>"
      ],
      "text/plain": [
       "                   0\n",
       "184.863779    233.20\n",
       "311.347433    383.74\n",
       "188.639290    113.18\n",
       "186.446497    120.16\n",
       "199.321040    220.10\n",
       "...              ...\n",
       "178.946460    179.32\n",
       "1759.681188  1706.47\n",
       "178.770799    168.57\n",
       "410.962959    497.30\n",
       "2678.806157  2914.06\n",
       "\n",
       "[61609 rows x 1 columns]"
      ]
     },
     "execution_count": 14,
     "metadata": {},
     "output_type": "execute_result"
    }
   ],
   "source": [
    "pd.DataFrame(inversettrue[: , 3], inversepred[: , 3])"
   ]
  },
  {
   "cell_type": "code",
   "execution_count": null,
   "id": "659feddd",
   "metadata": {},
   "outputs": [],
   "source": []
  }
 ],
 "metadata": {
  "kernelspec": {
   "display_name": "Python 3 (ipykernel)",
   "language": "python",
   "name": "python3"
  },
  "language_info": {
   "codemirror_mode": {
    "name": "ipython",
    "version": 3
   },
   "file_extension": ".py",
   "mimetype": "text/x-python",
   "name": "python",
   "nbconvert_exporter": "python",
   "pygments_lexer": "ipython3",
   "version": "3.10.6"
  }
 },
 "nbformat": 4,
 "nbformat_minor": 5
}
