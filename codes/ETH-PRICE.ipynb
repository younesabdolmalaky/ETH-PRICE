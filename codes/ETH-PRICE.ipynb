{
 "cells": [
  {
   "cell_type": "code",
   "execution_count": 1,
   "id": "e6ce70b1",
   "metadata": {},
   "outputs": [
    {
     "name": "stderr",
     "output_type": "stream",
     "text": [
      "2022-11-01 14:30:37.246343: I tensorflow/core/platform/cpu_feature_guard.cc:193] This TensorFlow binary is optimized with oneAPI Deep Neural Network Library (oneDNN) to use the following CPU instructions in performance-critical operations:  AVX2 FMA\n",
      "To enable them in other operations, rebuild TensorFlow with the appropriate compiler flags.\n",
      "2022-11-01 14:30:37.470834: W tensorflow/stream_executor/platform/default/dso_loader.cc:64] Could not load dynamic library 'libcudart.so.11.0'; dlerror: libcudart.so.11.0: cannot open shared object file: No such file or directory\n",
      "2022-11-01 14:30:37.470866: I tensorflow/stream_executor/cuda/cudart_stub.cc:29] Ignore above cudart dlerror if you do not have a GPU set up on your machine.\n",
      "2022-11-01 14:30:37.539523: E tensorflow/stream_executor/cuda/cuda_blas.cc:2981] Unable to register cuBLAS factory: Attempting to register factory for plugin cuBLAS when one has already been registered\n",
      "2022-11-01 14:30:38.786068: W tensorflow/stream_executor/platform/default/dso_loader.cc:64] Could not load dynamic library 'libnvinfer.so.7'; dlerror: libnvinfer.so.7: cannot open shared object file: No such file or directory\n",
      "2022-11-01 14:30:38.786186: W tensorflow/stream_executor/platform/default/dso_loader.cc:64] Could not load dynamic library 'libnvinfer_plugin.so.7'; dlerror: libnvinfer_plugin.so.7: cannot open shared object file: No such file or directory\n",
      "2022-11-01 14:30:38.786198: W tensorflow/compiler/tf2tensorrt/utils/py_utils.cc:38] TF-TRT Warning: Cannot dlopen some TensorRT libraries. If you would like to use Nvidia GPU with TensorRT, please make sure the missing libraries mentioned above are installed properly.\n"
     ]
    }
   ],
   "source": [
    "import pandas as pd\n",
    "import numpy as np\n",
    "import tensorflow as tf\n",
    "from tensorflow.keras.models import Sequential\n",
    "from tensorflow.keras.layers import LSTM, Dense, Dropout, BatchNormalization\n",
    "from sklearn.model_selection import train_test_split\n",
    "from keras.wrappers.scikit_learn import KerasRegressor\n"
   ]
  },
  {
   "cell_type": "code",
   "execution_count": 2,
   "id": "08728b3c",
   "metadata": {},
   "outputs": [
    {
     "data": {
      "text/html": [
       "<div>\n",
       "<style scoped>\n",
       "    .dataframe tbody tr th:only-of-type {\n",
       "        vertical-align: middle;\n",
       "    }\n",
       "\n",
       "    .dataframe tbody tr th {\n",
       "        vertical-align: top;\n",
       "    }\n",
       "\n",
       "    .dataframe thead th {\n",
       "        text-align: right;\n",
       "    }\n",
       "</style>\n",
       "<table border=\"1\" class=\"dataframe\">\n",
       "  <thead>\n",
       "    <tr style=\"text-align: right;\">\n",
       "      <th></th>\n",
       "      <th>date</th>\n",
       "      <th>open</th>\n",
       "      <th>high</th>\n",
       "      <th>low</th>\n",
       "      <th>close</th>\n",
       "      <th>Volume_USD</th>\n",
       "      <th>Volume_crypto</th>\n",
       "    </tr>\n",
       "  </thead>\n",
       "  <tbody>\n",
       "    <tr>\n",
       "      <th>0</th>\n",
       "      <td>2018-06-01 00:06:00</td>\n",
       "      <td>579.08</td>\n",
       "      <td>579.56</td>\n",
       "      <td>577.52</td>\n",
       "      <td>579.48</td>\n",
       "      <td>6.880892e+00</td>\n",
       "      <td>3.985484e+03</td>\n",
       "    </tr>\n",
       "    <tr>\n",
       "      <th>1</th>\n",
       "      <td>2018-06-01 00:11:00</td>\n",
       "      <td>579.18</td>\n",
       "      <td>581.79</td>\n",
       "      <td>578.75</td>\n",
       "      <td>579.43</td>\n",
       "      <td>1.196595e+03</td>\n",
       "      <td>6.936516e+05</td>\n",
       "    </tr>\n",
       "    <tr>\n",
       "      <th>2</th>\n",
       "      <td>2018-06-01 00:16:00</td>\n",
       "      <td>579.32</td>\n",
       "      <td>580.72</td>\n",
       "      <td>578.95</td>\n",
       "      <td>579.30</td>\n",
       "      <td>1.217289e+03</td>\n",
       "      <td>7.056476e+05</td>\n",
       "    </tr>\n",
       "    <tr>\n",
       "      <th>3</th>\n",
       "      <td>2018-06-01 00:21:00</td>\n",
       "      <td>579.52</td>\n",
       "      <td>580.05</td>\n",
       "      <td>578.69</td>\n",
       "      <td>579.52</td>\n",
       "      <td>1.268806e+03</td>\n",
       "      <td>7.355171e+05</td>\n",
       "    </tr>\n",
       "    <tr>\n",
       "      <th>4</th>\n",
       "      <td>2018-06-01 00:26:00</td>\n",
       "      <td>580.60</td>\n",
       "      <td>581.08</td>\n",
       "      <td>579.83</td>\n",
       "      <td>581.08</td>\n",
       "      <td>1.326577e+03</td>\n",
       "      <td>7.690636e+05</td>\n",
       "    </tr>\n",
       "    <tr>\n",
       "      <th>...</th>\n",
       "      <td>...</td>\n",
       "      <td>...</td>\n",
       "      <td>...</td>\n",
       "      <td>...</td>\n",
       "      <td>...</td>\n",
       "      <td>...</td>\n",
       "      <td>...</td>\n",
       "    </tr>\n",
       "    <tr>\n",
       "      <th>308066</th>\n",
       "      <td>2021-06-01 23:36:00</td>\n",
       "      <td>2629.66</td>\n",
       "      <td>2634.34</td>\n",
       "      <td>2623.43</td>\n",
       "      <td>2626.11</td>\n",
       "      <td>5.471072e+07</td>\n",
       "      <td>3.461623e+10</td>\n",
       "    </tr>\n",
       "    <tr>\n",
       "      <th>308067</th>\n",
       "      <td>2021-06-01 23:41:00</td>\n",
       "      <td>2634.48</td>\n",
       "      <td>2637.12</td>\n",
       "      <td>2631.97</td>\n",
       "      <td>2633.88</td>\n",
       "      <td>5.471088e+07</td>\n",
       "      <td>3.461663e+10</td>\n",
       "    </tr>\n",
       "    <tr>\n",
       "      <th>308068</th>\n",
       "      <td>2021-06-01 23:46:00</td>\n",
       "      <td>2638.62</td>\n",
       "      <td>2650.00</td>\n",
       "      <td>2634.58</td>\n",
       "      <td>2641.46</td>\n",
       "      <td>5.471106e+07</td>\n",
       "      <td>3.461712e+10</td>\n",
       "    </tr>\n",
       "    <tr>\n",
       "      <th>308069</th>\n",
       "      <td>2021-06-01 23:51:00</td>\n",
       "      <td>2628.09</td>\n",
       "      <td>2639.03</td>\n",
       "      <td>2628.09</td>\n",
       "      <td>2628.09</td>\n",
       "      <td>5.471110e+07</td>\n",
       "      <td>3.461722e+10</td>\n",
       "    </tr>\n",
       "    <tr>\n",
       "      <th>308070</th>\n",
       "      <td>2021-06-01 23:56:00</td>\n",
       "      <td>2627.30</td>\n",
       "      <td>2630.97</td>\n",
       "      <td>2623.62</td>\n",
       "      <td>2627.30</td>\n",
       "      <td>5.471111e+07</td>\n",
       "      <td>3.461725e+10</td>\n",
       "    </tr>\n",
       "  </tbody>\n",
       "</table>\n",
       "<p>308071 rows × 7 columns</p>\n",
       "</div>"
      ],
      "text/plain": [
       "                       date     open     high      low    close    Volume_USD  \\\n",
       "0       2018-06-01 00:06:00   579.08   579.56   577.52   579.48  6.880892e+00   \n",
       "1       2018-06-01 00:11:00   579.18   581.79   578.75   579.43  1.196595e+03   \n",
       "2       2018-06-01 00:16:00   579.32   580.72   578.95   579.30  1.217289e+03   \n",
       "3       2018-06-01 00:21:00   579.52   580.05   578.69   579.52  1.268806e+03   \n",
       "4       2018-06-01 00:26:00   580.60   581.08   579.83   581.08  1.326577e+03   \n",
       "...                     ...      ...      ...      ...      ...           ...   \n",
       "308066  2021-06-01 23:36:00  2629.66  2634.34  2623.43  2626.11  5.471072e+07   \n",
       "308067  2021-06-01 23:41:00  2634.48  2637.12  2631.97  2633.88  5.471088e+07   \n",
       "308068  2021-06-01 23:46:00  2638.62  2650.00  2634.58  2641.46  5.471106e+07   \n",
       "308069  2021-06-01 23:51:00  2628.09  2639.03  2628.09  2628.09  5.471110e+07   \n",
       "308070  2021-06-01 23:56:00  2627.30  2630.97  2623.62  2627.30  5.471111e+07   \n",
       "\n",
       "        Volume_crypto  \n",
       "0        3.985484e+03  \n",
       "1        6.936516e+05  \n",
       "2        7.056476e+05  \n",
       "3        7.355171e+05  \n",
       "4        7.690636e+05  \n",
       "...               ...  \n",
       "308066   3.461623e+10  \n",
       "308067   3.461663e+10  \n",
       "308068   3.461712e+10  \n",
       "308069   3.461722e+10  \n",
       "308070   3.461725e+10  \n",
       "\n",
       "[308071 rows x 7 columns]"
      ]
     },
     "execution_count": 2,
     "metadata": {},
     "output_type": "execute_result"
    }
   ],
   "source": [
    "df = pd.read_csv('../datasets/ETHUSD_5m.csv' , names =['a' ,'unix','date','symbol','open','high','low','close','Volume_USD','Volume_crypto', 'k'] )\n",
    "df = df.drop(['a' , 'k' , 'unix' ,'symbol' ] , axis = 1)\n",
    "df"
   ]
  },
  {
   "cell_type": "code",
   "execution_count": 3,
   "id": "ad6cf019",
   "metadata": {},
   "outputs": [],
   "source": [
    "cand = 30"
   ]
  },
  {
   "cell_type": "code",
   "execution_count": 4,
   "id": "05f2ce42",
   "metadata": {},
   "outputs": [],
   "source": [
    "df = df.dropna()"
   ]
  },
  {
   "cell_type": "code",
   "execution_count": 5,
   "id": "07e9e7f5",
   "metadata": {},
   "outputs": [],
   "source": [
    "df = df.loc[:, df.columns != 'date']\n",
    "df = df.values"
   ]
  },
  {
   "cell_type": "code",
   "execution_count": 6,
   "id": "20d5fba6",
   "metadata": {},
   "outputs": [],
   "source": [
    "from sklearn.preprocessing import StandardScaler\n",
    "scaler = StandardScaler()\n",
    "df = scaler.fit_transform(df)"
   ]
  },
  {
   "cell_type": "code",
   "execution_count": 7,
   "id": "b09aa0d8",
   "metadata": {},
   "outputs": [
    {
     "ename": "IndexError",
     "evalue": "index 308071 is out of bounds for axis 0 with size 308071",
     "output_type": "error",
     "traceback": [
      "\u001b[0;31m---------------------------------------------------------------------------\u001b[0m",
      "\u001b[0;31mIndexError\u001b[0m                                Traceback (most recent call last)",
      "Cell \u001b[0;32mIn [7], line 10\u001b[0m\n\u001b[1;32m      8\u001b[0m     temp\u001b[38;5;241m.\u001b[39mappend(df[i\u001b[38;5;241m+\u001b[39mj])\n\u001b[1;32m      9\u001b[0m X\u001b[38;5;241m.\u001b[39mappend(temp)\n\u001b[0;32m---> 10\u001b[0m y\u001b[38;5;241m.\u001b[39mappend(\u001b[43mdf\u001b[49m\u001b[43m[\u001b[49m\u001b[43mi\u001b[49m\u001b[38;5;241;43m+\u001b[39;49m\u001b[43mcand\u001b[49m\u001b[43m]\u001b[49m[\u001b[38;5;241m3\u001b[39m])\n",
      "\u001b[0;31mIndexError\u001b[0m: index 308071 is out of bounds for axis 0 with size 308071"
     ]
    }
   ],
   "source": [
    "X = []\n",
    "y = []\n",
    "counter = 0 \n",
    "for i in range(len(df)):\n",
    "    temp = []\n",
    "    counter = counter + 1\n",
    "    for j in range(cand):\n",
    "        temp.append(df[i+j])\n",
    "    X.append(temp)\n",
    "    y.append(df[i+cand][3])\n",
    "        "
   ]
  },
  {
   "cell_type": "code",
   "execution_count": 8,
   "id": "a85bf98c",
   "metadata": {},
   "outputs": [],
   "source": [
    "X = np.array(X)\n",
    "y = np.array(y)"
   ]
  },
  {
   "cell_type": "code",
   "execution_count": 9,
   "id": "154d9ea7",
   "metadata": {},
   "outputs": [],
   "source": [
    "X = X[:len(y)]"
   ]
  },
  {
   "cell_type": "code",
   "execution_count": 24,
   "id": "601a07d2",
   "metadata": {},
   "outputs": [],
   "source": [
    "train_X, test_X, train_y, test_y = train_test_split(X, y, test_size=0.33, random_state=42)"
   ]
  },
  {
   "cell_type": "code",
   "execution_count": 58,
   "id": "a127c3b6",
   "metadata": {},
   "outputs": [],
   "source": [
    "def baseline_model():\n",
    "    model = Sequential()\n",
    "    model.add(LSTM(32, input_shape=((cand, 6)), return_sequences=True))\n",
    "    model.add(Dropout(0.3))\n",
    "    model.add(BatchNormalization())\n",
    "    model.add(LSTM(16, return_sequences=True))\n",
    "    model.add(Dropout(0.3))\n",
    "    model.add(BatchNormalization())\n",
    "    model.add(LSTM(8))\n",
    "    model.add(Dropout(0.3))\n",
    "    model.add(BatchNormalization())\n",
    "    model.add(Dense(8, activation='relu'))\n",
    "    model.add(Dense(1))\n",
    "    model.compile(loss='mean_squared_error', optimizer='Adam', metrics=['mean_absolute_error'])\n",
    "    return model"
   ]
  },
  {
   "cell_type": "code",
   "execution_count": 59,
   "id": "5df06dae",
   "metadata": {},
   "outputs": [
    {
     "name": "stderr",
     "output_type": "stream",
     "text": [
      "/tmp/ipykernel_6547/304737239.py:1: DeprecationWarning: KerasRegressor is deprecated, use Sci-Keras (https://github.com/adriangb/scikeras) instead. See https://www.adriangb.com/scikeras/stable/migration.html for help migrating.\n",
      "  estimator = KerasRegressor(build_fn=baseline_model, epochs=1, batch_size=20)\n"
     ]
    }
   ],
   "source": [
    "estimator = KerasRegressor(build_fn=baseline_model, epochs=1, batch_size=20)"
   ]
  },
  {
   "cell_type": "code",
   "execution_count": 78,
   "id": "429570da",
   "metadata": {},
   "outputs": [
    {
     "name": "stdout",
     "output_type": "stream",
     "text": [
      "10320/10320 [==============================] - 750s 71ms/step - loss: 0.0826 - mean_absolute_error: 0.1697\n"
     ]
    }
   ],
   "source": [
    "history=estimator.fit(train_X,train_y)"
   ]
  },
  {
   "cell_type": "code",
   "execution_count": 79,
   "id": "57e1dfc5",
   "metadata": {},
   "outputs": [
    {
     "name": "stdout",
     "output_type": "stream",
     "text": [
      "5083/5083 [==============================] - 91s 17ms/step\n"
     ]
    }
   ],
   "source": [
    "y_pred = estimator.predict(test_X)"
   ]
  },
  {
   "cell_type": "code",
   "execution_count": 80,
   "id": "a69814e2",
   "metadata": {},
   "outputs": [
    {
     "data": {
      "text/plain": [
       "101654"
      ]
     },
     "execution_count": 80,
     "metadata": {},
     "output_type": "execute_result"
    }
   ],
   "source": [
    "y_pred.shape[0]"
   ]
  },
  {
   "cell_type": "code",
   "execution_count": 81,
   "id": "3615dc87",
   "metadata": {},
   "outputs": [],
   "source": [
    "forinverse = np.zeros((y_pred.shape[0] , 6))\n",
    "for i in range(len(forinverse)):\n",
    "    forinverse[i][3] = y_pred[i]"
   ]
  },
  {
   "cell_type": "code",
   "execution_count": 82,
   "id": "95941742",
   "metadata": {},
   "outputs": [],
   "source": [
    "forinverse1 = np.zeros((y_pred.shape[0] , 6))\n",
    "for i in range(len(forinverse)):\n",
    "    forinverse1[i][3] = test_y[i]"
   ]
  },
  {
   "cell_type": "code",
   "execution_count": 83,
   "id": "a7440821",
   "metadata": {},
   "outputs": [],
   "source": [
    "inversepred = scaler.inverse_transform(forinverse)\n",
    "inversettrue = scaler.inverse_transform(forinverse1)"
   ]
  },
  {
   "cell_type": "code",
   "execution_count": 84,
   "id": "de2fa29e",
   "metadata": {},
   "outputs": [
    {
     "data": {
      "text/plain": [
       "array([ 198.1849965 ,  347.49488821,  155.15849126, ..., 2109.15074698,\n",
       "        346.6843568 ,  179.47666851])"
      ]
     },
     "execution_count": 84,
     "metadata": {},
     "output_type": "execute_result"
    }
   ],
   "source": [
    "inversepred[: , 3]"
   ]
  },
  {
   "cell_type": "code",
   "execution_count": 76,
   "id": "17a220d6",
   "metadata": {},
   "outputs": [
    {
     "data": {
      "text/plain": [
       "0.9913365402347034"
      ]
     },
     "execution_count": 76,
     "metadata": {},
     "output_type": "execute_result"
    }
   ],
   "source": [
    "from sklearn.metrics import r2_score\n",
    "r2_score(y_pred=inversepred[: , 3], y_true = inversettrue[: , 3])"
   ]
  },
  {
   "cell_type": "code",
   "execution_count": 77,
   "id": "cce844e1",
   "metadata": {},
   "outputs": [
    {
     "data": {
      "text/plain": [
       "43.67291314550709"
      ]
     },
     "execution_count": 77,
     "metadata": {},
     "output_type": "execute_result"
    }
   ],
   "source": [
    "from sklearn.metrics import mean_absolute_error\n",
    "colab(y_true = inversettrue[: , 3], y_pred = inversepred[: , 3])"
   ]
  }
 ],
 "metadata": {
  "kernelspec": {
   "display_name": "Python 3 (ipykernel)",
   "language": "python",
   "name": "python3"
  },
  "language_info": {
   "codemirror_mode": {
    "name": "ipython",
    "version": 3
   },
   "file_extension": ".py",
   "mimetype": "text/x-python",
   "name": "python",
   "nbconvert_exporter": "python",
   "pygments_lexer": "ipython3",
   "version": "3.10.6"
  }
 },
 "nbformat": 4,
 "nbformat_minor": 5
}
