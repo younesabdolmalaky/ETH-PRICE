{
 "cells": [
  {
   "cell_type": "code",
   "execution_count": 17,
   "metadata": {
    "id": "0XgnZqXwyk2i"
   },
   "outputs": [],
   "source": [
    "import pandas as pd\n",
    "import numpy as np\n",
    "import tensorflow as tf\n",
    "from tensorflow.keras.models import Sequential\n",
    "from tensorflow.keras.layers import LSTM, Dense, Dropout, BatchNormalization\n",
    "from sklearn.model_selection import train_test_split\n",
    "from keras.wrappers.scikit_learn import KerasRegressor\n",
    "from keras.callbacks import ModelCheckpoint\n",
    "import pickle"
   ]
  },
  {
   "cell_type": "code",
   "execution_count": 8,
   "metadata": {
    "colab": {
     "base_uri": "https://localhost:8080/",
     "height": 206
    },
    "id": "RvmHPrxX024p",
    "outputId": "bdb14333-738b-4957-b72e-3da67eab9666"
   },
   "outputs": [
    {
     "data": {
      "text/html": [
       "<div>\n",
       "<style scoped>\n",
       "    .dataframe tbody tr th:only-of-type {\n",
       "        vertical-align: middle;\n",
       "    }\n",
       "\n",
       "    .dataframe tbody tr th {\n",
       "        vertical-align: top;\n",
       "    }\n",
       "\n",
       "    .dataframe thead th {\n",
       "        text-align: right;\n",
       "    }\n",
       "</style>\n",
       "<table border=\"1\" class=\"dataframe\">\n",
       "  <thead>\n",
       "    <tr style=\"text-align: right;\">\n",
       "      <th></th>\n",
       "      <th>date</th>\n",
       "      <th>open</th>\n",
       "      <th>high</th>\n",
       "      <th>low</th>\n",
       "      <th>close</th>\n",
       "      <th>Volume_USD</th>\n",
       "      <th>Volume_crypto</th>\n",
       "    </tr>\n",
       "  </thead>\n",
       "  <tbody>\n",
       "    <tr>\n",
       "      <th>0</th>\n",
       "      <td>2018-06-01 00:06:00</td>\n",
       "      <td>579.08</td>\n",
       "      <td>579.56</td>\n",
       "      <td>577.52</td>\n",
       "      <td>579.48</td>\n",
       "      <td>6.880892</td>\n",
       "      <td>3985.483745</td>\n",
       "    </tr>\n",
       "    <tr>\n",
       "      <th>1</th>\n",
       "      <td>2018-06-01 00:11:00</td>\n",
       "      <td>579.18</td>\n",
       "      <td>581.79</td>\n",
       "      <td>578.75</td>\n",
       "      <td>579.43</td>\n",
       "      <td>1196.594957</td>\n",
       "      <td>693651.637925</td>\n",
       "    </tr>\n",
       "    <tr>\n",
       "      <th>2</th>\n",
       "      <td>2018-06-01 00:16:00</td>\n",
       "      <td>579.32</td>\n",
       "      <td>580.72</td>\n",
       "      <td>578.95</td>\n",
       "      <td>579.30</td>\n",
       "      <td>1217.288639</td>\n",
       "      <td>705647.643435</td>\n",
       "    </tr>\n",
       "    <tr>\n",
       "      <th>3</th>\n",
       "      <td>2018-06-01 00:21:00</td>\n",
       "      <td>579.52</td>\n",
       "      <td>580.05</td>\n",
       "      <td>578.69</td>\n",
       "      <td>579.52</td>\n",
       "      <td>1268.806168</td>\n",
       "      <td>735517.111700</td>\n",
       "    </tr>\n",
       "    <tr>\n",
       "      <th>4</th>\n",
       "      <td>2018-06-01 00:26:00</td>\n",
       "      <td>580.60</td>\n",
       "      <td>581.08</td>\n",
       "      <td>579.83</td>\n",
       "      <td>581.08</td>\n",
       "      <td>1326.576505</td>\n",
       "      <td>769063.564014</td>\n",
       "    </tr>\n",
       "  </tbody>\n",
       "</table>\n",
       "</div>"
      ],
      "text/plain": [
       "                  date    open    high     low   close   Volume_USD  \\\n",
       "0  2018-06-01 00:06:00  579.08  579.56  577.52  579.48     6.880892   \n",
       "1  2018-06-01 00:11:00  579.18  581.79  578.75  579.43  1196.594957   \n",
       "2  2018-06-01 00:16:00  579.32  580.72  578.95  579.30  1217.288639   \n",
       "3  2018-06-01 00:21:00  579.52  580.05  578.69  579.52  1268.806168   \n",
       "4  2018-06-01 00:26:00  580.60  581.08  579.83  581.08  1326.576505   \n",
       "\n",
       "   Volume_crypto  \n",
       "0    3985.483745  \n",
       "1  693651.637925  \n",
       "2  705647.643435  \n",
       "3  735517.111700  \n",
       "4  769063.564014  "
      ]
     },
     "execution_count": 8,
     "metadata": {},
     "output_type": "execute_result"
    }
   ],
   "source": [
    "df = pd.read_csv('ETHUSD_5m.csv' , names =['a' ,'unix','date','symbol','open','high','low','close','Volume_USD','Volume_crypto', 'k'] )\n",
    "df = df.drop(['a' , 'k' , 'unix' ,'symbol' ] , axis = 1)\n",
    "df.head()"
   ]
  },
  {
   "cell_type": "code",
   "execution_count": 9,
   "metadata": {
    "id": "zJKyf-PU0-0p"
   },
   "outputs": [],
   "source": [
    "df = df.dropna()\n",
    "df = df.loc[:, df.columns != 'date']\n",
    "df = df.values"
   ]
  },
  {
   "cell_type": "code",
   "execution_count": 10,
   "metadata": {
    "id": "wSr2aji93UPz"
   },
   "outputs": [],
   "source": [
    "from sklearn.preprocessing import MinMaxScaler\n",
    "scaler = MinMaxScaler()\n",
    "df = scaler.fit_transform(df)"
   ]
  },
  {
   "cell_type": "code",
   "execution_count": 20,
   "metadata": {},
   "outputs": [],
   "source": [
    "with open('scaler.h5', 'wb') as handle:\n",
    "    pickle.dump(scaler, handle)"
   ]
  },
  {
   "cell_type": "code",
   "execution_count": 11,
   "metadata": {
    "id": "xdUioCh73XHv"
   },
   "outputs": [],
   "source": [
    "cand = 30\n",
    "X = []\n",
    "y = []\n",
    "counter = 0 \n",
    "for i in range(len(df)):\n",
    "    temp = []\n",
    "    counter = counter + 1\n",
    "    try:\n",
    "      for j in range(cand):\n",
    "          temp.append(df[i+j])\n",
    "      X.append(temp)\n",
    "      y.append(df[i+cand][3])\n",
    "    except:\n",
    "      pass\n",
    "          "
   ]
  },
  {
   "cell_type": "code",
   "execution_count": 12,
   "metadata": {
    "id": "pOf70CbZ3bqN"
   },
   "outputs": [],
   "source": [
    "X = np.array(X)\n",
    "y = np.array(y)\n",
    "X = X[:len(y)]"
   ]
  },
  {
   "cell_type": "code",
   "execution_count": 19,
   "metadata": {},
   "outputs": [
    {
     "data": {
      "text/plain": [
       "(308041, 30, 6)"
      ]
     },
     "execution_count": 19,
     "metadata": {},
     "output_type": "execute_result"
    }
   ],
   "source": [
    "X.shape"
   ]
  },
  {
   "cell_type": "code",
   "execution_count": 15,
   "metadata": {
    "id": "ji1D4Qnz4w24"
   },
   "outputs": [],
   "source": [
    "train_X, test_X, train_y, test_y = train_test_split(X, y, test_size=0.20, random_state=42)"
   ]
  },
  {
   "cell_type": "code",
   "execution_count": 18,
   "metadata": {},
   "outputs": [],
   "source": [
    "with open('test_X.h5', 'wb') as handle:\n",
    "    pickle.dump(test_X, handle)\n",
    "\n",
    "with open('test_y.h5', 'wb') as handle:\n",
    "    pickle.dump(test_y, handle)\n"
   ]
  },
  {
   "cell_type": "code",
   "execution_count": 12,
   "metadata": {
    "colab": {
     "base_uri": "https://localhost:8080/"
    },
    "id": "eQe7kln841Jo",
    "outputId": "40e640fe-9791-4513-cf42-d0361d84f39b"
   },
   "outputs": [
    {
     "name": "stderr",
     "output_type": "stream",
     "text": [
      "<ipython-input-12-bf6124912de4>:17: DeprecationWarning: KerasRegressor is deprecated, use Sci-Keras (https://github.com/adriangb/scikeras) instead. See https://www.adriangb.com/scikeras/stable/migration.html for help migrating.\n",
      "  estimator = KerasRegressor(build_fn=baseline_model, epochs=100, batch_size=32)\n"
     ]
    }
   ],
   "source": [
    "def baseline_model():\n",
    "    model = Sequential()\n",
    "    model.add(LSTM(32, input_shape=((cand, 6)), return_sequences=True))\n",
    "    model.add(Dropout(0.3))\n",
    "    model.add(BatchNormalization())\n",
    "    model.add(LSTM(16, return_sequences=True))\n",
    "    model.add(Dropout(0.3))\n",
    "    model.add(BatchNormalization())\n",
    "    model.add(LSTM(8))\n",
    "    model.add(Dropout(0.3))\n",
    "    model.add(BatchNormalization())\n",
    "    model.add(Dense(8, activation='relu'))\n",
    "    model.add(Dense(1))\n",
    "    model.compile(loss='mean_squared_error', optimizer='Adam', metrics=['mean_absolute_error'])\n",
    "    return model\n",
    "\n",
    "estimator = KerasRegressor(build_fn=baseline_model, epochs=100, batch_size=32)\n"
   ]
  },
  {
   "cell_type": "code",
   "execution_count": 13,
   "metadata": {
    "id": "fmg2mmIb5iTj"
   },
   "outputs": [],
   "source": [
    "mch = ModelCheckpoint('fianl-model.h5' , monitor='val_mean_absolute_error' , mode ='min' , save_best_only=True)"
   ]
  },
  {
   "cell_type": "code",
   "execution_count": null,
   "metadata": {
    "colab": {
     "base_uri": "https://localhost:8080/"
    },
    "id": "UtPHzrsS5CHa",
    "outputId": "88aa5ccf-8edb-4e9a-e18a-8882cf7b176d"
   },
   "outputs": [
    {
     "name": "stdout",
     "output_type": "stream",
     "text": [
      "Epoch 1/100\n",
      "7701/7701 [==============================] - 271s 35ms/step - loss: 0.0065 - mean_absolute_error: 0.0403 - val_loss: 2.8792e-04 - val_mean_absolute_error: 0.0120\n",
      "Epoch 2/100\n",
      "7701/7701 [==============================] - 270s 35ms/step - loss: 8.0134e-04 - mean_absolute_error: 0.0160 - val_loss: 7.7395e-04 - val_mean_absolute_error: 0.0152\n",
      "Epoch 3/100\n",
      "7701/7701 [==============================] - 261s 34ms/step - loss: 5.2826e-04 - mean_absolute_error: 0.0129 - val_loss: 0.0011 - val_mean_absolute_error: 0.0187\n",
      "Epoch 4/100\n",
      "7701/7701 [==============================] - 264s 34ms/step - loss: 4.9685e-04 - mean_absolute_error: 0.0127 - val_loss: 0.0016 - val_mean_absolute_error: 0.0208\n",
      "Epoch 5/100\n",
      "7701/7701 [==============================] - 261s 34ms/step - loss: 3.6689e-04 - mean_absolute_error: 0.0107 - val_loss: 0.0013 - val_mean_absolute_error: 0.0181\n",
      "Epoch 6/100\n",
      "7701/7701 [==============================] - 255s 33ms/step - loss: 3.3817e-04 - mean_absolute_error: 0.0102 - val_loss: 0.0019 - val_mean_absolute_error: 0.0210\n",
      "Epoch 7/100\n",
      "7701/7701 [==============================] - 255s 33ms/step - loss: 3.0168e-04 - mean_absolute_error: 0.0097 - val_loss: 0.0022 - val_mean_absolute_error: 0.0240\n",
      "Epoch 8/100\n",
      "7701/7701 [==============================] - 257s 33ms/step - loss: 2.9447e-04 - mean_absolute_error: 0.0095 - val_loss: 0.0013 - val_mean_absolute_error: 0.0169\n",
      "Epoch 9/100\n",
      "7701/7701 [==============================] - 257s 33ms/step - loss: 2.6963e-04 - mean_absolute_error: 0.0092 - val_loss: 0.0017 - val_mean_absolute_error: 0.0185\n",
      "Epoch 10/100\n",
      "7701/7701 [==============================] - 256s 33ms/step - loss: 2.6352e-04 - mean_absolute_error: 0.0091 - val_loss: 0.0019 - val_mean_absolute_error: 0.0207\n",
      "Epoch 11/100\n",
      "7701/7701 [==============================] - 258s 34ms/step - loss: 2.5173e-04 - mean_absolute_error: 0.0089 - val_loss: 0.0016 - val_mean_absolute_error: 0.0189\n",
      "Epoch 12/100\n",
      "7701/7701 [==============================] - 260s 34ms/step - loss: 2.3992e-04 - mean_absolute_error: 0.0087 - val_loss: 0.0013 - val_mean_absolute_error: 0.0179\n",
      "Epoch 13/100\n",
      "7701/7701 [==============================] - 258s 33ms/step - loss: 2.4210e-04 - mean_absolute_error: 0.0087 - val_loss: 0.0017 - val_mean_absolute_error: 0.0182\n",
      "Epoch 14/100\n",
      "7701/7701 [==============================] - 278s 36ms/step - loss: 2.5098e-04 - mean_absolute_error: 0.0088 - val_loss: 0.0017 - val_mean_absolute_error: 0.0214\n",
      "Epoch 15/100\n",
      "7701/7701 [==============================] - 273s 35ms/step - loss: 2.4387e-04 - mean_absolute_error: 0.0087 - val_loss: 0.0016 - val_mean_absolute_error: 0.0189\n",
      "Epoch 16/100\n",
      "7701/7701 [==============================] - 266s 35ms/step - loss: 2.4488e-04 - mean_absolute_error: 0.0087 - val_loss: 0.0021 - val_mean_absolute_error: 0.0212\n",
      "Epoch 17/100\n",
      "7701/7701 [==============================] - 278s 36ms/step - loss: 2.3502e-04 - mean_absolute_error: 0.0085 - val_loss: 0.0016 - val_mean_absolute_error: 0.0183\n",
      "Epoch 18/100\n",
      "7701/7701 [==============================] - 258s 33ms/step - loss: 2.2614e-04 - mean_absolute_error: 0.0085 - val_loss: 0.0014 - val_mean_absolute_error: 0.0195\n",
      "Epoch 19/100\n",
      "7701/7701 [==============================] - 262s 34ms/step - loss: 2.5008e-04 - mean_absolute_error: 0.0088 - val_loss: 0.0016 - val_mean_absolute_error: 0.0190\n",
      "Epoch 20/100\n",
      "7701/7701 [==============================] - 262s 34ms/step - loss: 2.6988e-04 - mean_absolute_error: 0.0091 - val_loss: 0.0016 - val_mean_absolute_error: 0.0191\n",
      "Epoch 21/100\n",
      "7701/7701 [==============================] - 264s 34ms/step - loss: 2.5195e-04 - mean_absolute_error: 0.0089 - val_loss: 0.0012 - val_mean_absolute_error: 0.0172\n",
      "Epoch 22/100\n",
      "7701/7701 [==============================] - 268s 35ms/step - loss: 2.4598e-04 - mean_absolute_error: 0.0088 - val_loss: 0.0012 - val_mean_absolute_error: 0.0193\n",
      "Epoch 23/100\n",
      "7701/7701 [==============================] - 254s 33ms/step - loss: 2.1977e-04 - mean_absolute_error: 0.0083 - val_loss: 0.0015 - val_mean_absolute_error: 0.0185\n",
      "Epoch 24/100\n",
      "7701/7701 [==============================] - 252s 33ms/step - loss: 2.2220e-04 - mean_absolute_error: 0.0082 - val_loss: 9.7226e-04 - val_mean_absolute_error: 0.0156\n",
      "Epoch 25/100\n",
      "7701/7701 [==============================] - 264s 34ms/step - loss: 2.1734e-04 - mean_absolute_error: 0.0083 - val_loss: 9.5062e-04 - val_mean_absolute_error: 0.0150\n",
      "Epoch 26/100\n",
      "7701/7701 [==============================] - 266s 35ms/step - loss: 2.1696e-04 - mean_absolute_error: 0.0083 - val_loss: 0.0017 - val_mean_absolute_error: 0.0196\n",
      "Epoch 27/100\n",
      "7701/7701 [==============================] - 262s 34ms/step - loss: 2.1566e-04 - mean_absolute_error: 0.0082 - val_loss: 0.0018 - val_mean_absolute_error: 0.0187\n",
      "Epoch 28/100\n",
      "7701/7701 [==============================] - 263s 34ms/step - loss: 2.1061e-04 - mean_absolute_error: 0.0081 - val_loss: 0.0015 - val_mean_absolute_error: 0.0198\n",
      "Epoch 29/100\n",
      "7701/7701 [==============================] - 266s 35ms/step - loss: 2.2652e-04 - mean_absolute_error: 0.0084 - val_loss: 0.0014 - val_mean_absolute_error: 0.0198\n",
      "Epoch 30/100\n",
      "7701/7701 [==============================] - 262s 34ms/step - loss: 2.1941e-04 - mean_absolute_error: 0.0083 - val_loss: 0.0012 - val_mean_absolute_error: 0.0169\n",
      "Epoch 31/100\n",
      "7701/7701 [==============================] - 273s 36ms/step - loss: 2.1210e-04 - mean_absolute_error: 0.0081 - val_loss: 0.0017 - val_mean_absolute_error: 0.0198\n",
      "Epoch 32/100\n",
      "7701/7701 [==============================] - 269s 35ms/step - loss: 2.1191e-04 - mean_absolute_error: 0.0080 - val_loss: 0.0013 - val_mean_absolute_error: 0.0154\n",
      "Epoch 33/100\n",
      "7701/7701 [==============================] - 274s 36ms/step - loss: 2.0390e-04 - mean_absolute_error: 0.0080 - val_loss: 0.0013 - val_mean_absolute_error: 0.0160\n",
      "Epoch 34/100\n",
      "7701/7701 [==============================] - 273s 35ms/step - loss: 2.7596e-04 - mean_absolute_error: 0.0092 - val_loss: 0.0012 - val_mean_absolute_error: 0.0163\n",
      "Epoch 35/100\n",
      "7701/7701 [==============================] - 266s 35ms/step - loss: 2.0988e-04 - mean_absolute_error: 0.0081 - val_loss: 0.0014 - val_mean_absolute_error: 0.0174\n",
      "Epoch 36/100\n",
      "7701/7701 [==============================] - 256s 33ms/step - loss: 2.0375e-04 - mean_absolute_error: 0.0079 - val_loss: 0.0016 - val_mean_absolute_error: 0.0181\n",
      "Epoch 37/100\n",
      "7701/7701 [==============================] - 258s 33ms/step - loss: 2.0501e-04 - mean_absolute_error: 0.0079 - val_loss: 0.0011 - val_mean_absolute_error: 0.0165\n",
      "Epoch 38/100\n",
      "7701/7701 [==============================] - 268s 35ms/step - loss: 1.9730e-04 - mean_absolute_error: 0.0079 - val_loss: 0.0013 - val_mean_absolute_error: 0.0176\n",
      "Epoch 39/100\n",
      "7701/7701 [==============================] - 269s 35ms/step - loss: 2.0155e-04 - mean_absolute_error: 0.0079 - val_loss: 0.0011 - val_mean_absolute_error: 0.0169\n",
      "Epoch 40/100\n",
      "7701/7701 [==============================] - 273s 35ms/step - loss: 2.1277e-04 - mean_absolute_error: 0.0081 - val_loss: 0.0019 - val_mean_absolute_error: 0.0204\n",
      "Epoch 41/100\n",
      "7701/7701 [==============================] - 276s 36ms/step - loss: 2.1687e-04 - mean_absolute_error: 0.0084 - val_loss: 0.0019 - val_mean_absolute_error: 0.0202\n",
      "Epoch 42/100\n",
      "7701/7701 [==============================] - 269s 35ms/step - loss: 2.1437e-04 - mean_absolute_error: 0.0082 - val_loss: 0.0013 - val_mean_absolute_error: 0.0173\n",
      "Epoch 43/100\n",
      "7701/7701 [==============================] - 264s 34ms/step - loss: 2.0222e-04 - mean_absolute_error: 0.0081 - val_loss: 0.0015 - val_mean_absolute_error: 0.0184\n",
      "Epoch 44/100\n",
      "7701/7701 [==============================] - 251s 33ms/step - loss: 1.9768e-04 - mean_absolute_error: 0.0078 - val_loss: 0.0014 - val_mean_absolute_error: 0.0173\n",
      "Epoch 45/100\n",
      "7701/7701 [==============================] - 295s 38ms/step - loss: 1.9116e-04 - mean_absolute_error: 0.0077 - val_loss: 0.0010 - val_mean_absolute_error: 0.0155\n",
      "Epoch 46/100\n",
      "7701/7701 [==============================] - 263s 34ms/step - loss: 1.9230e-04 - mean_absolute_error: 0.0078 - val_loss: 0.0013 - val_mean_absolute_error: 0.0162\n",
      "Epoch 47/100\n",
      "7701/7701 [==============================] - 257s 33ms/step - loss: 1.8874e-04 - mean_absolute_error: 0.0077 - val_loss: 0.0015 - val_mean_absolute_error: 0.0178\n",
      "Epoch 48/100\n",
      "7701/7701 [==============================] - 256s 33ms/step - loss: 2.1556e-04 - mean_absolute_error: 0.0084 - val_loss: 0.0013 - val_mean_absolute_error: 0.0170\n",
      "Epoch 49/100\n",
      "7701/7701 [==============================] - 254s 33ms/step - loss: 1.9747e-04 - mean_absolute_error: 0.0081 - val_loss: 7.8574e-04 - val_mean_absolute_error: 0.0146\n",
      "Epoch 50/100\n",
      "7701/7701 [==============================] - 254s 33ms/step - loss: 2.1388e-04 - mean_absolute_error: 0.0084 - val_loss: 0.0013 - val_mean_absolute_error: 0.0184\n",
      "Epoch 51/100\n",
      "7701/7701 [==============================] - 258s 34ms/step - loss: 2.3814e-04 - mean_absolute_error: 0.0088 - val_loss: 0.0014 - val_mean_absolute_error: 0.0178\n",
      "Epoch 52/100\n",
      "7701/7701 [==============================] - 266s 35ms/step - loss: 2.2352e-04 - mean_absolute_error: 0.0085 - val_loss: 0.0011 - val_mean_absolute_error: 0.0169\n",
      "Epoch 53/100\n",
      "7701/7701 [==============================] - 267s 35ms/step - loss: 2.0681e-04 - mean_absolute_error: 0.0081 - val_loss: 0.0013 - val_mean_absolute_error: 0.0167\n",
      "Epoch 54/100\n",
      "7701/7701 [==============================] - 266s 34ms/step - loss: 1.8889e-04 - mean_absolute_error: 0.0079 - val_loss: 0.0012 - val_mean_absolute_error: 0.0166\n",
      "Epoch 55/100\n",
      "7701/7701 [==============================] - 265s 34ms/step - loss: 1.9864e-04 - mean_absolute_error: 0.0080 - val_loss: 9.2385e-04 - val_mean_absolute_error: 0.0161\n",
      "Epoch 56/100\n",
      "7701/7701 [==============================] - 265s 34ms/step - loss: 1.9690e-04 - mean_absolute_error: 0.0080 - val_loss: 0.0017 - val_mean_absolute_error: 0.0201\n",
      "Epoch 57/100\n",
      "7701/7701 [==============================] - 264s 34ms/step - loss: 2.0568e-04 - mean_absolute_error: 0.0080 - val_loss: 0.0013 - val_mean_absolute_error: 0.0166\n",
      "Epoch 58/100\n",
      "7701/7701 [==============================] - 273s 35ms/step - loss: 1.8157e-04 - mean_absolute_error: 0.0077 - val_loss: 0.0014 - val_mean_absolute_error: 0.0172\n",
      "Epoch 59/100\n",
      "7701/7701 [==============================] - 272s 35ms/step - loss: 1.8739e-04 - mean_absolute_error: 0.0076 - val_loss: 0.0013 - val_mean_absolute_error: 0.0168\n",
      "Epoch 60/100\n",
      "7701/7701 [==============================] - 273s 35ms/step - loss: 2.0179e-04 - mean_absolute_error: 0.0081 - val_loss: 0.0015 - val_mean_absolute_error: 0.0197\n",
      "Epoch 61/100\n",
      "7701/7701 [==============================] - 273s 35ms/step - loss: 1.8153e-04 - mean_absolute_error: 0.0077 - val_loss: 0.0015 - val_mean_absolute_error: 0.0187\n",
      "Epoch 62/100\n",
      "7701/7701 [==============================] - 270s 35ms/step - loss: 2.4737e-04 - mean_absolute_error: 0.0089 - val_loss: 0.0013 - val_mean_absolute_error: 0.0180\n",
      "Epoch 63/100\n",
      "7701/7701 [==============================] - 267s 35ms/step - loss: 2.0905e-04 - mean_absolute_error: 0.0082 - val_loss: 0.0014 - val_mean_absolute_error: 0.0170\n",
      "Epoch 64/100\n",
      "7701/7701 [==============================] - 273s 35ms/step - loss: 2.0924e-04 - mean_absolute_error: 0.0082 - val_loss: 0.0013 - val_mean_absolute_error: 0.0175\n",
      "Epoch 65/100\n",
      "7701/7701 [==============================] - 270s 35ms/step - loss: 1.8594e-04 - mean_absolute_error: 0.0079 - val_loss: 0.0014 - val_mean_absolute_error: 0.0178\n",
      "Epoch 66/100\n",
      "7701/7701 [==============================] - 270s 35ms/step - loss: 1.8236e-04 - mean_absolute_error: 0.0077 - val_loss: 0.0012 - val_mean_absolute_error: 0.0171\n",
      "Epoch 67/100\n",
      "7701/7701 [==============================] - 267s 35ms/step - loss: 1.8024e-04 - mean_absolute_error: 0.0076 - val_loss: 0.0016 - val_mean_absolute_error: 0.0208\n",
      "Epoch 68/100\n",
      "7701/7701 [==============================] - 270s 35ms/step - loss: 1.8296e-04 - mean_absolute_error: 0.0076 - val_loss: 0.0012 - val_mean_absolute_error: 0.0170\n",
      "Epoch 69/100\n",
      "7701/7701 [==============================] - 269s 35ms/step - loss: 2.1503e-04 - mean_absolute_error: 0.0084 - val_loss: 0.0017 - val_mean_absolute_error: 0.0193\n",
      "Epoch 70/100\n",
      "7701/7701 [==============================] - 267s 35ms/step - loss: 1.8004e-04 - mean_absolute_error: 0.0077 - val_loss: 0.0014 - val_mean_absolute_error: 0.0179\n",
      "Epoch 71/100\n",
      "7701/7701 [==============================] - 274s 36ms/step - loss: 1.8605e-04 - mean_absolute_error: 0.0076 - val_loss: 0.0014 - val_mean_absolute_error: 0.0201\n",
      "Epoch 72/100\n",
      "7701/7701 [==============================] - 275s 36ms/step - loss: 1.7348e-04 - mean_absolute_error: 0.0074 - val_loss: 0.0014 - val_mean_absolute_error: 0.0183\n",
      "Epoch 73/100\n",
      "7701/7701 [==============================] - 277s 36ms/step - loss: 1.7168e-04 - mean_absolute_error: 0.0073 - val_loss: 0.0012 - val_mean_absolute_error: 0.0162\n",
      "Epoch 74/100\n",
      "7701/7701 [==============================] - 279s 36ms/step - loss: 1.7762e-04 - mean_absolute_error: 0.0074 - val_loss: 0.0013 - val_mean_absolute_error: 0.0164\n",
      "Epoch 75/100\n",
      "7701/7701 [==============================] - 277s 36ms/step - loss: 1.7602e-04 - mean_absolute_error: 0.0074 - val_loss: 9.5010e-04 - val_mean_absolute_error: 0.0146\n",
      "Epoch 76/100\n",
      "7701/7701 [==============================] - 278s 36ms/step - loss: 1.7602e-04 - mean_absolute_error: 0.0074 - val_loss: 0.0015 - val_mean_absolute_error: 0.0174\n",
      "Epoch 77/100\n",
      "7701/7701 [==============================] - 274s 36ms/step - loss: 1.7320e-04 - mean_absolute_error: 0.0073 - val_loss: 0.0016 - val_mean_absolute_error: 0.0200\n",
      "Epoch 78/100\n",
      "7701/7701 [==============================] - 278s 36ms/step - loss: 1.7215e-04 - mean_absolute_error: 0.0073 - val_loss: 0.0015 - val_mean_absolute_error: 0.0184\n",
      "Epoch 79/100\n",
      "7701/7701 [==============================] - 279s 36ms/step - loss: 1.8696e-04 - mean_absolute_error: 0.0076 - val_loss: 0.0012 - val_mean_absolute_error: 0.0164\n",
      "Epoch 80/100\n",
      "7701/7701 [==============================] - 277s 36ms/step - loss: 1.6965e-04 - mean_absolute_error: 0.0073 - val_loss: 0.0016 - val_mean_absolute_error: 0.0189\n",
      "Epoch 81/100\n",
      "7701/7701 [==============================] - 281s 36ms/step - loss: 1.7176e-04 - mean_absolute_error: 0.0074 - val_loss: 0.0014 - val_mean_absolute_error: 0.0181\n",
      "Epoch 82/100\n",
      "7701/7701 [==============================] - 278s 36ms/step - loss: 1.7286e-04 - mean_absolute_error: 0.0074 - val_loss: 0.0015 - val_mean_absolute_error: 0.0171\n",
      "Epoch 83/100\n",
      "7701/7701 [==============================] - 271s 35ms/step - loss: 1.6653e-04 - mean_absolute_error: 0.0073 - val_loss: 0.0017 - val_mean_absolute_error: 0.0218\n",
      "Epoch 84/100\n",
      "7701/7701 [==============================] - 271s 35ms/step - loss: 1.6803e-04 - mean_absolute_error: 0.0073 - val_loss: 0.0014 - val_mean_absolute_error: 0.0184\n",
      "Epoch 85/100\n",
      "7701/7701 [==============================] - 275s 36ms/step - loss: 1.9065e-04 - mean_absolute_error: 0.0075 - val_loss: 0.0016 - val_mean_absolute_error: 0.0183\n",
      "Epoch 86/100\n",
      "7701/7701 [==============================] - 274s 36ms/step - loss: 1.7063e-04 - mean_absolute_error: 0.0073 - val_loss: 0.0016 - val_mean_absolute_error: 0.0181\n",
      "Epoch 87/100\n",
      "7701/7701 [==============================] - 275s 36ms/step - loss: 1.8614e-04 - mean_absolute_error: 0.0075 - val_loss: 0.0013 - val_mean_absolute_error: 0.0178\n",
      "Epoch 88/100\n",
      "7701/7701 [==============================] - 272s 35ms/step - loss: 1.7295e-04 - mean_absolute_error: 0.0074 - val_loss: 0.0016 - val_mean_absolute_error: 0.0190\n",
      "Epoch 89/100\n",
      "7701/7701 [==============================] - 274s 36ms/step - loss: 1.6899e-04 - mean_absolute_error: 0.0073 - val_loss: 0.0016 - val_mean_absolute_error: 0.0180\n",
      "Epoch 90/100\n",
      "7701/7701 [==============================] - 271s 35ms/step - loss: 2.1017e-04 - mean_absolute_error: 0.0081 - val_loss: 0.0016 - val_mean_absolute_error: 0.0201\n",
      "Epoch 91/100\n",
      "7701/7701 [==============================] - 270s 35ms/step - loss: 1.7392e-04 - mean_absolute_error: 0.0075 - val_loss: 0.0016 - val_mean_absolute_error: 0.0183\n",
      "Epoch 92/100\n",
      "7701/7701 [==============================] - 269s 35ms/step - loss: 1.6423e-04 - mean_absolute_error: 0.0073 - val_loss: 0.0016 - val_mean_absolute_error: 0.0179\n",
      "Epoch 93/100\n",
      "7701/7701 [==============================] - 269s 35ms/step - loss: 1.7070e-04 - mean_absolute_error: 0.0073 - val_loss: 0.0016 - val_mean_absolute_error: 0.0177\n",
      "Epoch 94/100\n",
      "7701/7701 [==============================] - 267s 35ms/step - loss: 1.9589e-04 - mean_absolute_error: 0.0077 - val_loss: 0.0014 - val_mean_absolute_error: 0.0182\n",
      "Epoch 95/100\n",
      "7701/7701 [==============================] - 268s 35ms/step - loss: 1.8938e-04 - mean_absolute_error: 0.0076 - val_loss: 0.0015 - val_mean_absolute_error: 0.0170\n",
      "Epoch 96/100\n",
      "7701/7701 [==============================] - 269s 35ms/step - loss: 1.7809e-04 - mean_absolute_error: 0.0074 - val_loss: 9.0631e-04 - val_mean_absolute_error: 0.0163\n",
      "Epoch 97/100\n",
      "7701/7701 [==============================] - 266s 35ms/step - loss: 1.6309e-04 - mean_absolute_error: 0.0073 - val_loss: 0.0016 - val_mean_absolute_error: 0.0174\n",
      "Epoch 98/100\n",
      "7701/7701 [==============================] - 264s 34ms/step - loss: 1.7425e-04 - mean_absolute_error: 0.0074 - val_loss: 0.0014 - val_mean_absolute_error: 0.0189\n",
      "Epoch 99/100\n",
      "7701/7701 [==============================] - 260s 34ms/step - loss: 2.3644e-04 - mean_absolute_error: 0.0087 - val_loss: 0.0017 - val_mean_absolute_error: 0.0198\n",
      "Epoch 100/100\n",
      "3465/7701 [============>.................] - ETA: 2:13 - loss: 2.7867e-04 - mean_absolute_error: 0.0097"
     ]
    }
   ],
   "source": [
    "history = estimator.fit(train_X,train_y , validation_data = (test_X , test_y) , callbacks = [mch])"
   ]
  },
  {
   "cell_type": "code",
   "execution_count": null,
   "metadata": {
    "id": "ac6mzSrh44Xw"
   },
   "outputs": [],
   "source": []
  }
 ],
 "metadata": {
  "accelerator": "TPU",
  "colab": {
   "provenance": []
  },
  "gpuClass": "standard",
  "kernelspec": {
   "display_name": "Python 3 (ipykernel)",
   "language": "python",
   "name": "python3"
  },
  "language_info": {
   "codemirror_mode": {
    "name": "ipython",
    "version": 3
   },
   "file_extension": ".py",
   "mimetype": "text/x-python",
   "name": "python",
   "nbconvert_exporter": "python",
   "pygments_lexer": "ipython3",
   "version": "3.10.6"
  }
 },
 "nbformat": 4,
 "nbformat_minor": 1
}
